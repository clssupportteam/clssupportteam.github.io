{
  "cells": [
    {
      "cell_type": "markdown",
      "metadata": {
        "id": "view-in-github",
        "colab_type": "text"
      },
      "source": [
        "<a href=\"https://colab.research.google.com/github/clssupportteam/clssupportteam.github.io/blob/main/pandas.ipynb\" target=\"_parent\"><img src=\"https://colab.research.google.com/assets/colab-badge.svg\" alt=\"Open In Colab\"/></a>"
      ]
    },
    {
      "cell_type": "code",
      "source": [
        "import numpy as np\n",
        "import pandas as pd\n",
        "import requests\n",
        "import json"
      ],
      "metadata": {
        "id": "Ign1QSLcL5Ms"
      },
      "execution_count": null,
      "outputs": []
    },
    {
      "cell_type": "code",
      "source": [
        "# prompt: aggregate csv files into a single csv\n",
        "\n",
        "import glob\n",
        "import os\n",
        "#joining files with glob\n",
        "joined_files = os.path.join(\"/\", \"*.csv\")\n",
        "#A list of all joined files is returned\n",
        "joined_list = glob.glob(joined_files)\n",
        "#Finally, the files are joined\n",
        "pd.concat(map(pd.read_csv, joined_list), ignore_index=True).to_csv(\"/output.csv\", index=False)\n"
      ],
      "metadata": {
        "id": "u-sVIM9hfNuR"
      },
      "execution_count": null,
      "outputs": []
    },
    {
      "cell_type": "code",
      "source": [
        "# prompt: convert csv file to json object called 'data.json'\n",
        "\n",
        "df = pd.read_csv('/output.csv')\n",
        "df.to_json(\"data.json\", orient = \"records\")\n"
      ],
      "metadata": {
        "id": "2TDXCI9NM1TZ"
      },
      "execution_count": null,
      "outputs": []
    },
    {
      "cell_type": "code",
      "source": [
        "df.info()"
      ],
      "metadata": {
        "id": "0An0rKitedS4"
      },
      "execution_count": null,
      "outputs": []
    },
    {
      "cell_type": "code",
      "source": [
        "newdf = df[['Interval Start','Agent Name','Outbound','Answered','Handle','Total Talk','Total ACW','Transferred']]"
      ],
      "metadata": {
        "id": "httNdyQngsy5"
      },
      "execution_count": null,
      "outputs": []
    },
    {
      "cell_type": "code",
      "source": [
        "newdf.info()"
      ],
      "metadata": {
        "id": "ybSqeYr_g02p"
      },
      "execution_count": null,
      "outputs": []
    },
    {
      "cell_type": "code",
      "source": [
        "newdf"
      ],
      "metadata": {
        "id": "ZKmttmPLjyck"
      },
      "execution_count": null,
      "outputs": []
    },
    {
      "cell_type": "code",
      "source": [
        "newdf.groupby(['Agent Name', 'Interval Start']).sum()"
      ],
      "metadata": {
        "id": "EOc6gngIlIVM"
      },
      "execution_count": null,
      "outputs": []
    }
  ],
  "metadata": {
    "colab": {
      "private_outputs": true,
      "provenance": [],
      "include_colab_link": true
    },
    "kernelspec": {
      "display_name": "Python 3",
      "name": "python3"
    },
    "language_info": {
      "name": "python"
    }
  },
  "nbformat": 4,
  "nbformat_minor": 0
}