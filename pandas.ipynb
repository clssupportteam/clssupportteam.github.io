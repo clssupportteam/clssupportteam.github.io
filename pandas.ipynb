{
  "cells": [
    {
      "cell_type": "markdown",
      "metadata": {
        "id": "view-in-github",
        "colab_type": "text"
      },
      "source": [
        "<a href=\"https://colab.research.google.com/github/clssupportteam/clssupportteam.github.io/blob/main/pandas.ipynb\" target=\"_parent\"><img src=\"https://colab.research.google.com/assets/colab-badge.svg\" alt=\"Open In Colab\"/></a>"
      ]
    },
    {
      "cell_type": "code",
      "source": [
        "import numpy as np\n",
        "import pandas as pd\n",
        "import requests\n",
        "import json\n",
        "from dateutil import parser\n",
        "from datetime import datetime"
      ],
      "metadata": {
        "id": "Ign1QSLcL5Ms"
      },
      "execution_count": null,
      "outputs": []
    },
    {
      "cell_type": "code",
      "source": [
        "# prompt: aggregate csv files into a single csv\n",
        "\n",
        "import glob\n",
        "import os\n",
        "#joining files with glob\n",
        "joined_files = os.path.join(\"/content\", \"*.csv\")\n",
        "#A list of all joined files is returned\n",
        "joined_list = glob.glob(joined_files)\n",
        "#Finally, the files are joined\n",
        "pd.concat(map(pd.read_csv, joined_list), ignore_index=True).to_csv(\"/output.csv\", index=False)\n"
      ],
      "metadata": {
        "id": "u-sVIM9hfNuR"
      },
      "execution_count": null,
      "outputs": []
    },
    {
      "cell_type": "code",
      "source": [
        "# prompt: convert csv file to json object called 'data.json'\n",
        "\n",
        "df = pd.read_csv('/output.csv')\n",
        "df.to_json(\"data.json\", orient = \"records\")\n"
      ],
      "metadata": {
        "id": "2TDXCI9NM1TZ"
      },
      "execution_count": null,
      "outputs": []
    },
    {
      "cell_type": "code",
      "source": [
        "df.info()"
      ],
      "metadata": {
        "id": "0An0rKitedS4"
      },
      "execution_count": null,
      "outputs": []
    },
    {
      "cell_type": "code",
      "source": [
        "df.head(1)"
      ],
      "metadata": {
        "id": "Dpb9T2nB7Vwz"
      },
      "execution_count": null,
      "outputs": []
    },
    {
      "cell_type": "code",
      "source": [
        "df = df.drop(columns=[ 'Interval End', 'Interval Complete', 'Filters',\n",
        "       'Media Type', 'Agent Id'])"
      ],
      "metadata": {
        "id": "L_vQQ2wT_htr"
      },
      "execution_count": null,
      "outputs": []
    },
    {
      "cell_type": "code",
      "source": [
        "df['Agent Name'] = df['Agent Name'].astype(str)\n",
        "df['Department'] = df['Department'].astype(str)\n",
        "#df['Interval Start'] = df['Interval Start'].astype('datetime64[s]')\n",
        "df['Total Handle'] = df['Total Handle'].astype('timedelta64[s]')\n",
        "df['Avg Handle'] = df['Avg Handle'].astype('timedelta64[s]')\n",
        "df['Total Talk'] = df['Total Talk'].astype('timedelta64[s]')\n",
        "df['Total Hold'] = df['Total Hold'].astype('timedelta64[s]')\n",
        "df['Total ACW'] = df['Total ACW'].astype('timedelta64[s]')\n"
      ],
      "metadata": {
        "id": "NkgPNJym78yC"
      },
      "execution_count": null,
      "outputs": []
    },
    {
      "cell_type": "code",
      "source": [
        "df = df.query('Department == \"Probate Advisory\"') #\"Agent Name\" == \"Chelsea Clark\""
      ],
      "metadata": {
        "id": "8YDRsWKUA8cj"
      },
      "execution_count": null,
      "outputs": []
    },
    {
      "cell_type": "code",
      "source": [
        "df.info()"
      ],
      "metadata": {
        "id": "mihHM2XBwBTG"
      },
      "execution_count": null,
      "outputs": []
    },
    {
      "cell_type": "code",
      "source": [
        "df = df.rename(columns={\n",
        "    \"Interval Start\": \"Interval_Start\",\n",
        "    \"Agent Name\": \"Agent_Name\",\n",
        "    \"Total Handle\": \"TotalHandle\",\n",
        "    \"Avg Handle\": \"Avg_Handle\",\n",
        "    \"Total Talk\": \"Total_Talk\",\n",
        "    \"Total Hold\": \"Total_Hold\",\n",
        "    \"Total ACW\": \"Total_ACW\",\n",
        "})"
      ],
      "metadata": {
        "id": "xJQDROM1BC_7"
      },
      "execution_count": null,
      "outputs": []
    },
    {
      "cell_type": "code",
      "source": [
        "df.head()"
      ],
      "metadata": {
        "id": "ZKmttmPLjyck"
      },
      "execution_count": null,
      "outputs": []
    },
    {
      "cell_type": "code",
      "source": [
        "df = df.groupby(['Agent_Name', 'Interval_Start','Outbound']).sum()\n",
        "df.head()"
      ],
      "metadata": {
        "id": "EOc6gngIlIVM"
      },
      "execution_count": null,
      "outputs": []
    },
    {
      "cell_type": "code",
      "source": [
        "df['hours'] = df['TotalHandle'].dt.components.hours\n",
        "df['mins'] = df['TotalHandle'].dt.components.minutes.apply(lambda x: '0' + str(x) if x < 10 else str(x))\n",
        "df['secs'] = df['secs'] = df['TotalHandle'].dt.components.seconds.apply(lambda x: '0' + str(x) if x < 10 else str(x))\n",
        "df['Total_Handle'] = df['hours'].astype(str) + ':' + df['mins'].astype(str) + ':' + df['secs'].astype(str)\n",
        "\n",
        "#df = df.drop(columns=['hours', 'mins', 'secs', 'TotalHandle'])\n",
        "df.head()"
      ],
      "metadata": {
        "id": "dD3Qcoq7RGay"
      },
      "execution_count": null,
      "outputs": []
    },
    {
      "cell_type": "code",
      "source": [
        "thislist = {}\n",
        "print(thislist)\n",
        "\n",
        "def add(task):\n",
        "  id = len(thislist) + 1\n",
        "  thislist[id] = task\n",
        "\n",
        "for i in range(20):\n",
        "  command = input('Enter command: ')\n",
        "  if command == 'exit':\n",
        "    break\n",
        "  elif command == 'add':\n",
        "    task = input('Enter task: ')\n",
        "    add(task)\n",
        "  elif command == 'ls':\n",
        "    print(thislist)\n",
        "  elif command == 'del':\n",
        "    del thislist[int(input('Enter id: '))]\n",
        "  else:\n",
        "    print('Invalid command')\n",
        "    continue\n",
        "\n",
        "  #print(thislist)"
      ],
      "metadata": {
        "id": "4ySUhtZbZnYe"
      },
      "execution_count": null,
      "outputs": []
    }
  ],
  "metadata": {
    "colab": {
      "private_outputs": true,
      "provenance": [],
      "include_colab_link": true
    },
    "kernelspec": {
      "display_name": "Python 3",
      "name": "python3"
    },
    "language_info": {
      "name": "python"
    }
  },
  "nbformat": 4,
  "nbformat_minor": 0
}